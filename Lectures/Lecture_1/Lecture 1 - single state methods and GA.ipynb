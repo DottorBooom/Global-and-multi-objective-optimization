{
 "cells": [
  {
   "cell_type": "markdown",
   "metadata": {
    "id": "W8RgBuJu30ig"
   },
   "source": [
    "# Single-state methods and Genetic Algorithms\n",
    "\n",
    "- Random Search\n",
    "- Hill Climbing\n",
    "- Simulated Annealing\n",
    "- Genetic Algorithms"
   ]
  },
  {
   "cell_type": "markdown",
   "metadata": {
    "id": "p_NhcTIG_APy"
   },
   "source": [
    "Let us start by importing the random module (for ```random.choice```, ```random.choices```, and ```random.randint```) and the math module (for ```math.e```)."
   ]
  },
  {
   "cell_type": "code",
   "execution_count": 1,
   "metadata": {
    "executionInfo": {
     "elapsed": 1569,
     "status": "ok",
     "timestamp": 1611048612676,
     "user": {
      "displayName": "Luca Manzoni",
      "photoUrl": "https://lh3.googleusercontent.com/a-/AOh14Ghe29ailJMHOhIfcMMV-n6KoyZgpvKhU0y8mcacAg=s64",
      "userId": "14224333895353448832"
     },
     "user_tz": -60
    },
    "id": "AQd-wq9l5XyE"
   },
   "outputs": [],
   "source": [
    "import random\n",
    "import math"
   ]
  },
  {
   "cell_type": "markdown",
   "metadata": {
    "id": "EkF18_Z5_m1F"
   },
   "source": [
    "We define the **OneMax** function as the number of ones in a list"
   ]
  },
  {
   "cell_type": "code",
   "execution_count": 2,
   "metadata": {
    "executionInfo": {
     "elapsed": 1488,
     "status": "ok",
     "timestamp": 1611048624310,
     "user": {
      "displayName": "Luca Manzoni",
      "photoUrl": "https://lh3.googleusercontent.com/a-/AOh14Ghe29ailJMHOhIfcMMV-n6KoyZgpvKhU0y8mcacAg=s64",
      "userId": "14224333895353448832"
     },
     "user_tz": -60
    },
    "id": "DheOUSs94AyF"
   },
   "outputs": [],
   "source": [
    "def onemax(xs):\n",
    "    '''\n",
    "    The OneMax function. It returns the number of ones in a list\n",
    "\n",
    "    Args:\n",
    "        xs: A list of integer\n",
    "    '''\n",
    "    return len([x for x in xs if x == 1])"
   ]
  },
  {
   "cell_type": "code",
   "execution_count": 3,
   "metadata": {
    "colab": {
     "base_uri": "https://localhost:8080/"
    },
    "executionInfo": {
     "elapsed": 1573,
     "status": "ok",
     "timestamp": 1611048638234,
     "user": {
      "displayName": "Luca Manzoni",
      "photoUrl": "https://lh3.googleusercontent.com/a-/AOh14Ghe29ailJMHOhIfcMMV-n6KoyZgpvKhU0y8mcacAg=s64",
      "userId": "14224333895353448832"
     },
     "user_tz": -60
    },
    "id": "uriFbwqq-zBD",
    "outputId": "47918071-6599-4010-928b-451e60a61803"
   },
   "outputs": [
    {
     "data": {
      "text/plain": [
       "3"
      ]
     },
     "execution_count": 3,
     "metadata": {},
     "output_type": "execute_result"
    }
   ],
   "source": [
    "onemax([1,0,1,1,0])"
   ]
  },
  {
   "cell_type": "markdown",
   "metadata": {
    "id": "9unw7gUa_uKg"
   },
   "source": [
    "## Random Search\n",
    "\n",
    "For random search we generate ```n_iter``` times a new random solution that is accepted only if its fitness is equal or better than the best solution found so far"
   ]
  },
  {
   "cell_type": "code",
   "execution_count": 4,
   "metadata": {
    "executionInfo": {
     "elapsed": 668,
     "status": "ok",
     "timestamp": 1611048711779,
     "user": {
      "displayName": "Luca Manzoni",
      "photoUrl": "https://lh3.googleusercontent.com/a-/AOh14Ghe29ailJMHOhIfcMMV-n6KoyZgpvKhU0y8mcacAg=s64",
      "userId": "14224333895353448832"
     },
     "user_tz": -60
    },
    "id": "7KgRxoSv4SkD"
   },
   "outputs": [],
   "source": [
    "def random_search(fit, random_sample, n_iter = 100):\n",
    "    '''\n",
    "    This function generate a random sample at each execution, \n",
    "    compute the fitness and save the best one among all. \n",
    "    \n",
    "    Args:\n",
    "        fit: The function that we use for compute the fitness of a sample\n",
    "        random_sample: The function that we use for extract the sample\n",
    "        n_iter: The number of iteration that the function have to go through\n",
    "\n",
    "    Returns:\n",
    "        The best sample obtained after n iteration and the fit value it achives\n",
    "    '''\n",
    "    \n",
    "    # We need a basic sample before starting the execution\n",
    "    best = random_sample() # we generate a random sample\n",
    "    best_fit = fit(best) # we compute the fitness of the genrated sample\n",
    "\n",
    "    # the main cycle\n",
    "    for i in range(0, n_iter): \n",
    "        x = random_sample() # we generate a random sample\n",
    "        x_fit = fit(x) # we compute the fitness of the genrated sample\n",
    "        if x_fit >= best_fit: # if the fit is higher than the best one we shift the best fit with the new one\n",
    "            best = x\n",
    "            best_fit = x_fit\n",
    "    return best_fit, best # return the best sample"
   ]
  },
  {
   "cell_type": "markdown",
   "metadata": {
    "id": "U4g9Redw_-ir"
   },
   "source": [
    "Let us try with OneMax and different values of $k$"
   ]
  },
  {
   "cell_type": "code",
   "execution_count": 5,
   "metadata": {
    "colab": {
     "base_uri": "https://localhost:8080/"
    },
    "executionInfo": {
     "elapsed": 439,
     "status": "ok",
     "timestamp": 1611048761615,
     "user": {
      "displayName": "Luca Manzoni",
      "photoUrl": "https://lh3.googleusercontent.com/a-/AOh14Ghe29ailJMHOhIfcMMV-n6KoyZgpvKhU0y8mcacAg=s64",
      "userId": "14224333895353448832"
     },
     "user_tz": -60
    },
    "id": "uWkythJX5Rne",
    "outputId": "a24d95e2-22b0-4cc7-aaae-b1229570989b"
   },
   "outputs": [
    {
     "name": "stdout",
     "output_type": "stream",
     "text": [
      "[0, 0, 1, 0, 0, 1, 1, 1, 1, 1, 0, 1, 1, 0, 1, 1, 1, 1, 0, 0]\n"
     ]
    }
   ],
   "source": [
    "random_sample = lambda: random.choices([0,1], k=20) # we select a random value from the list k times\n",
    "print(random_sample())"
   ]
  },
  {
   "cell_type": "code",
   "execution_count": 6,
   "metadata": {},
   "outputs": [
    {
     "data": {
      "text/plain": [
       "(15, [1, 1, 1, 0, 0, 1, 1, 0, 1, 1, 1, 0, 1, 1, 1, 0, 1, 1, 1, 1])"
      ]
     },
     "execution_count": 6,
     "metadata": {},
     "output_type": "execute_result"
    }
   ],
   "source": [
    "random_search(onemax, random_sample)"
   ]
  },
  {
   "cell_type": "markdown",
   "metadata": {
    "id": "RbwS1t1uAHmz"
   },
   "source": [
    "## Hill Climbing\n",
    "\n",
    "Before defining Hill Climbing we will define some utility functions that will be employed in defining the neighbourhood of a given solution. In particular, how to move from and to a number and its representation as a list of numbers in binary."
   ]
  },
  {
   "cell_type": "code",
   "execution_count": 7,
   "metadata": {
    "executionInfo": {
     "elapsed": 393,
     "status": "ok",
     "timestamp": 1611048807272,
     "user": {
      "displayName": "Luca Manzoni",
      "photoUrl": "https://lh3.googleusercontent.com/a-/AOh14Ghe29ailJMHOhIfcMMV-n6KoyZgpvKhU0y8mcacAg=s64",
      "userId": "14224333895353448832"
     },
     "user_tz": -60
    },
    "id": "AdS7fjHp6wDi"
   },
   "outputs": [],
   "source": [
    "def as_binary_string(k, n):\n",
    "    '''\n",
    "    This function convert an integer k in a string of lengh n of binary number.\n",
    "    If the number of binary digits exceeds those necessary to represent the integer,\n",
    "    no othe digits will be added.\n",
    "    \n",
    "    Args:\n",
    "        k: The integer to convert in binary\n",
    "        n: The lenght of the binary string. Not less, not more.\n",
    "\n",
    "    Returns:\n",
    "        The string of digits representing the integer value in binary.\n",
    "    '''\n",
    "    xs = [0] * n # create a list of n digits\n",
    "    i = 0\n",
    "    while k != 0:\n",
    "        if k % 2 == 1:\n",
    "            xs[n-i-1] = 1\n",
    "        k = k // 2\n",
    "        i += 1\n",
    "    return xs\n",
    "\n",
    "def to_binary(xs):\n",
    "    '''\n",
    "    This function convert an string of binary value in to the decimal rappresentation.\n",
    "    \n",
    "    Args:\n",
    "        xs: List composed of binary value\n",
    "\n",
    "    Returns:\n",
    "        The integer value.\n",
    "    '''    \n",
    "    k = 0\n",
    "    n = len(xs)\n",
    "    for i, b in enumerate(xs):\n",
    "        k += 2**(n-i-1) * b\n",
    "    return k"
   ]
  },
  {
   "cell_type": "code",
   "execution_count": 8,
   "metadata": {},
   "outputs": [
    {
     "data": {
      "text/plain": [
       "[0, 0, 1, 0, 1, 1, 0, 1]"
      ]
     },
     "execution_count": 8,
     "metadata": {},
     "output_type": "execute_result"
    }
   ],
   "source": [
    "as_binary_string(45, 8)"
   ]
  },
  {
   "cell_type": "code",
   "execution_count": 9,
   "metadata": {
    "colab": {
     "base_uri": "https://localhost:8080/"
    },
    "executionInfo": {
     "elapsed": 366,
     "status": "ok",
     "timestamp": 1611048834043,
     "user": {
      "displayName": "Luca Manzoni",
      "photoUrl": "https://lh3.googleusercontent.com/a-/AOh14Ghe29ailJMHOhIfcMMV-n6KoyZgpvKhU0y8mcacAg=s64",
      "userId": "14224333895353448832"
     },
     "user_tz": -60
    },
    "id": "6naUuohO_f58",
    "outputId": "3d275152-3a7a-4ca1-c8b9-222d8bb87448"
   },
   "outputs": [
    {
     "data": {
      "text/plain": [
       "11"
      ]
     },
     "execution_count": 9,
     "metadata": {},
     "output_type": "execute_result"
    }
   ],
   "source": [
    "to_binary([0,1,0,1,1])"
   ]
  },
  {
   "cell_type": "markdown",
   "metadata": {
    "id": "zGCGVjwZAezT"
   },
   "source": [
    "Selecting one Neighbor randomly when we consider a binary string as a number $k$ represented in binary is simply a choice between $k-1$ and $k+1$ represented as binary strings:"
   ]
  },
  {
   "cell_type": "code",
   "execution_count": 10,
   "metadata": {
    "executionInfo": {
     "elapsed": 643,
     "status": "ok",
     "timestamp": 1611048894944,
     "user": {
      "displayName": "Luca Manzoni",
      "photoUrl": "https://lh3.googleusercontent.com/a-/AOh14Ghe29ailJMHOhIfcMMV-n6KoyZgpvKhU0y8mcacAg=s64",
      "userId": "14224333895353448832"
     },
     "user_tz": -60
    },
    "id": "I7wjTYkm7LwZ"
   },
   "outputs": [],
   "source": [
    "# With this function we compute the integer neighbourhood of the binary string by summing +1 or -1 to the decimal value. \n",
    "# In this way we have less access to the state space but we exlore all the close neighbor.\n",
    "\n",
    "def neigh_int(xs):\n",
    "    '''\n",
    "    This funcition compute the k+1 and k-1 neighbors of the binary string and choose randomly one of them.\n",
    "    \n",
    "    Args:\n",
    "        xs: List composed of binary value\n",
    "\n",
    "    Returns:\n",
    "        One of two neighbors in the form of a string of binary numbers.\n",
    "    '''\n",
    "    n = len(xs)\n",
    "    k = to_binary(xs) # binary -> decimal\n",
    "    if k == 0: # if is 0, we only have the upper Neighbor\n",
    "        return as_binary_string(k+1, n)\n",
    "    elif k == 2**n - 1: # if is the max value (the string have all digits at 1), we only have the lower Neighbor\n",
    "        return as_binary_string(k-1, n)\n",
    "    else: # we choose randomly one of the two neighbors\n",
    "        return random.choice([as_binary_string(k-1, n), as_binary_string(k+1, n)])"
   ]
  },
  {
   "cell_type": "code",
   "execution_count": 11,
   "metadata": {},
   "outputs": [
    {
     "data": {
      "text/plain": [
       "[1, 0]"
      ]
     },
     "execution_count": 11,
     "metadata": {},
     "output_type": "execute_result"
    }
   ],
   "source": [
    "neigh_int([0, 1])"
   ]
  },
  {
   "cell_type": "markdown",
   "metadata": {
    "id": "V_7gkmoNAyq7"
   },
   "source": [
    "For the neighbourhood induced by the Hamming distance, we can select a position inside the list and \"flip\" the corresponding bit:"
   ]
  },
  {
   "cell_type": "code",
   "execution_count": 12,
   "metadata": {
    "executionInfo": {
     "elapsed": 1203,
     "status": "ok",
     "timestamp": 1611048931414,
     "user": {
      "displayName": "Luca Manzoni",
      "photoUrl": "https://lh3.googleusercontent.com/a-/AOh14Ghe29ailJMHOhIfcMMV-n6KoyZgpvKhU0y8mcacAg=s64",
      "userId": "14224333895353448832"
     },
     "user_tz": -60
    },
    "id": "vAm2oi1v7OaT"
   },
   "outputs": [],
   "source": [
    "# With this function we compute the binary  neighbourhood of the string by flipping one bit. \n",
    "# In this way we have more access to the state space but if we are unlucky we could miss the best solution.\n",
    "\n",
    "\n",
    "def neigh_hamming(xs):\n",
    "    '''\n",
    "    This funcition random flip one of the digits from the string xs.\n",
    "    \n",
    "    Args:\n",
    "        xs: List composed of binary value\n",
    "\n",
    "    Returns:\n",
    "        The binary string with one bit flipped.\n",
    "    '''\n",
    "    n = len(xs)\n",
    "    candidates = []\n",
    "    pos = random.randint(0, n-1) # randomly choose one flip\n",
    "    return xs[0:pos] + [1 - xs[pos]] + xs[pos+1:n] # we make that flip turn and we fix the whole string if the modified bit was equal to 1"
   ]
  },
  {
   "cell_type": "markdown",
   "metadata": {
    "id": "VnmMd859BNI1"
   },
   "source": [
    "We can now define Hill Climbing similarly to random search _except_ for the fact that the nexxt solution to consider is selected in among the neighbours of the current best solution:"
   ]
  },
  {
   "cell_type": "code",
   "execution_count": 13,
   "metadata": {
    "executionInfo": {
     "elapsed": 451,
     "status": "ok",
     "timestamp": 1611048987514,
     "user": {
      "displayName": "Luca Manzoni",
      "photoUrl": "https://lh3.googleusercontent.com/a-/AOh14Ghe29ailJMHOhIfcMMV-n6KoyZgpvKhU0y8mcacAg=s64",
      "userId": "14224333895353448832"
     },
     "user_tz": -60
    },
    "id": "AyNWcOdH5boe"
   },
   "outputs": [],
   "source": [
    "# The concept of hill climbing is to move from one neighbour to another one, until we find one with the best solution. \n",
    "# The limitation that comes with this solution is that the algorithm could get stuck in a local optima \n",
    "# (the best solution but for a local set of neighbours, not for all samples).\n",
    "# The way to solve the problem is to execute more than one time with random start and use the best sample among all.\n",
    "# It is not a real solution to the problem but just a way to broaden the search and hope not to always get stuck in the local optima.\n",
    "\n",
    "def hill_climbing(fit, neigh, start, n_iter = 100):\n",
    "    '''\n",
    "    This function perform a hill climbing search by starting from a given value, \n",
    "    compute the fitness and start searching between all the neighbors the sample\n",
    "    with the best fit. \n",
    "    \n",
    "    Args:\n",
    "        fit: The function that we use for compute the fitness of a sample\n",
    "        neigh: The function that we use for generate neighbors\n",
    "        start: The sample where we start the execution\n",
    "        n_iter: The number of iteration that the function have to go through\n",
    "\n",
    "    Returns:\n",
    "        The best sample obtained after n iteration and the fit value it achives\n",
    "    '''\n",
    "    best = start\n",
    "    best_fit = fit(start)\n",
    "    for i in range(0, n_iter):\n",
    "        x = neigh(best)\n",
    "        x_fit = fit(x)\n",
    "        if x_fit >= best_fit:\n",
    "            best = x\n",
    "            best_fit = x_fit\n",
    "    return best_fit, best"
   ]
  },
  {
   "cell_type": "markdown",
   "metadata": {
    "id": "jYcKpc7yBfZJ"
   },
   "source": [
    "We can now try Hill Climbing on the OneMax problem with both the \"integer\" neighbourhood and the one induced by the Hamming distance:"
   ]
  },
  {
   "cell_type": "code",
   "execution_count": 14,
   "metadata": {
    "colab": {
     "base_uri": "https://localhost:8080/"
    },
    "executionInfo": {
     "elapsed": 452,
     "status": "ok",
     "timestamp": 1611049050593,
     "user": {
      "displayName": "Luca Manzoni",
      "photoUrl": "https://lh3.googleusercontent.com/a-/AOh14Ghe29ailJMHOhIfcMMV-n6KoyZgpvKhU0y8mcacAg=s64",
      "userId": "14224333895353448832"
     },
     "user_tz": -60
    },
    "id": "6P85OMQr9dgL",
    "outputId": "6f8a4236-fdf3-4d2f-91ef-90d39770a2b6"
   },
   "outputs": [
    {
     "name": "stdout",
     "output_type": "stream",
     "text": [
      "3 [1, 0, 0, 0, 1, 0, 0, 0, 1, 0]\n",
      "(4, [1, 0, 0, 0, 1, 0, 0, 0, 1, 1])\n",
      "(10, [1, 1, 1, 1, 1, 1, 1, 1, 1, 1])\n"
     ]
    }
   ],
   "source": [
    "starting_point = random.choices([0,1], k = 10)\n",
    "print(onemax(starting_point), starting_point)\n",
    "print(hill_climbing(onemax, neigh_int, starting_point)) \n",
    "print(hill_climbing(onemax, neigh_hamming, starting_point));"
   ]
  },
  {
   "cell_type": "markdown",
   "metadata": {},
   "source": [
    "As expected, the sum achive worse ressult than the binary flip. That's because we don't get stuck in local optima and always find a way to increase the fitness."
   ]
  },
  {
   "cell_type": "markdown",
   "metadata": {
    "id": "6ATb_JubCGRj"
   },
   "source": [
    "## Simulated Annealing\n",
    "\n",
    "We can now define the simulated annealing. In addition to what we have seen in the pseudocode, we also keep track of the best solution found so far, which is the one we return."
   ]
  },
  {
   "cell_type": "code",
   "execution_count": 15,
   "metadata": {
    "executionInfo": {
     "elapsed": 423,
     "status": "ok",
     "timestamp": 1611049269016,
     "user": {
      "displayName": "Luca Manzoni",
      "photoUrl": "https://lh3.googleusercontent.com/a-/AOh14Ghe29ailJMHOhIfcMMV-n6KoyZgpvKhU0y8mcacAg=s64",
      "userId": "14224333895353448832"
     },
     "user_tz": -60
    },
    "id": "UyKFdbaQ-2pf"
   },
   "outputs": [],
   "source": [
    "def simulated_annealing(fit, neigh, start, schedule, n_iter = 100):\n",
    "    '''\n",
    "    This function perform a simulated annealing search by starting from a given value, \n",
    "    compute the fitness and start searching between all the neighbors the sample\n",
    "    with the best fit. But, even if the solution is not the better we accept it with\n",
    "    certain probability T (temperature) that decade during the execution.\n",
    "    \n",
    "    Args:\n",
    "        fit: The function that we use for compute the fitness of a sample\n",
    "        neigh: The function that we use for generate neighbors\n",
    "        start: The sample where we start the execution\n",
    "        schedule: The function that give the value of T\n",
    "        n_iter: The number of iteration that the function have to go through\n",
    "\n",
    "    Returns:\n",
    "        The best sample obtained after n iteration and the fit value it achives\n",
    "    '''\n",
    "    current = start\n",
    "    current_fit = fit(start)\n",
    "    best = current\n",
    "    best_fit = current_fit\n",
    "    T = schedule(0, n_iter)\n",
    "    for i in range(0, n_iter):\n",
    "        x = neigh(best)\n",
    "        x_fit = fit(x)\n",
    "        if x_fit >= current_fit:\n",
    "            current = x\n",
    "            current_fit = x_fit\n",
    "            if x_fit >= best_fit:\n",
    "                best = x\n",
    "                best_fit = x_fit\n",
    "        elif random.random() <= math.e**((x_fit - current_fit)/T):\n",
    "            current = x\n",
    "            current_fit = x_fit\n",
    "        T = schedule(i, n_iter)\n",
    "    return best_fit, best"
   ]
  },
  {
   "cell_type": "markdown",
   "metadata": {
    "id": "Xbn2OQ8rNFlf"
   },
   "source": [
    "A possible schedule simply reduces the temperature with the number of iterations:"
   ]
  },
  {
   "cell_type": "code",
   "execution_count": 16,
   "metadata": {
    "executionInfo": {
     "elapsed": 405,
     "status": "ok",
     "timestamp": 1611049298039,
     "user": {
      "displayName": "Luca Manzoni",
      "photoUrl": "https://lh3.googleusercontent.com/a-/AOh14Ghe29ailJMHOhIfcMMV-n6KoyZgpvKhU0y8mcacAg=s64",
      "userId": "14224333895353448832"
     },
     "user_tz": -60
    },
    "id": "eHgas9SiJ46A"
   },
   "outputs": [],
   "source": [
    "def schedule(i, n_iter):\n",
    "    '''\n",
    "    Decresea linearly the temperature based on the number of total iterations divided by the i-th iteration we are in\n",
    "    \n",
    "    Args:\n",
    "        i: The value of the current iteration\n",
    "        n_iter: The number of total iterations\n",
    "\n",
    "    Returns:\n",
    "        Value of T\n",
    "    '''\n",
    "    return n_iter/(i+1)"
   ]
  },
  {
   "cell_type": "markdown",
   "metadata": {
    "id": "J8Tsb6NiNRWa"
   },
   "source": [
    "We can now check if something improves for the OneMax problem:"
   ]
  },
  {
   "cell_type": "code",
   "execution_count": 17,
   "metadata": {
    "colab": {
     "base_uri": "https://localhost:8080/"
    },
    "executionInfo": {
     "elapsed": 730,
     "status": "ok",
     "timestamp": 1611049310826,
     "user": {
      "displayName": "Luca Manzoni",
      "photoUrl": "https://lh3.googleusercontent.com/a-/AOh14Ghe29ailJMHOhIfcMMV-n6KoyZgpvKhU0y8mcacAg=s64",
      "userId": "14224333895353448832"
     },
     "user_tz": -60
    },
    "id": "_z7nkdFmKlcu",
    "outputId": "64519bea-b32c-447a-f463-ad338ef3faa8"
   },
   "outputs": [
    {
     "name": "stdout",
     "output_type": "stream",
     "text": [
      "21 [0, 0, 1, 1, 1, 1, 0, 1, 0, 0, 1, 0, 1, 1, 0, 1, 1, 0, 1, 1, 1, 1, 0, 0, 1, 0, 0, 1, 0, 0, 1, 1, 1, 0, 0, 1, 0, 1, 0, 0]\n",
      "(23, [0, 0, 1, 1, 1, 1, 0, 1, 0, 0, 1, 0, 1, 1, 0, 1, 1, 0, 1, 1, 1, 1, 0, 0, 1, 0, 0, 1, 0, 0, 1, 1, 1, 0, 0, 1, 0, 1, 1, 1])\n",
      "(40, [1, 1, 1, 1, 1, 1, 1, 1, 1, 1, 1, 1, 1, 1, 1, 1, 1, 1, 1, 1, 1, 1, 1, 1, 1, 1, 1, 1, 1, 1, 1, 1, 1, 1, 1, 1, 1, 1, 1, 1])\n"
     ]
    }
   ],
   "source": [
    "starting_point = random.choices([0,1], k = 40)\n",
    "print(onemax(starting_point),starting_point)\n",
    "print(simulated_annealing(onemax, neigh_int, starting_point, schedule))\n",
    "print(simulated_annealing(onemax, neigh_hamming, starting_point, schedule))"
   ]
  },
  {
   "cell_type": "markdown",
   "metadata": {},
   "source": [
    "This time, we even expect the neighbour integer to perform worst than the starting value. That's because it get shaked by some probability but eventually stuck in a local optimum. \n",
    "The hamming distance achive better result, in some case even achiving the best value. It performs well. \n",
    "Increasing the number of iteration allow the algorithm to achive highness quality of sample and find the optimum global solution."
   ]
  },
  {
   "cell_type": "code",
   "execution_count": 18,
   "metadata": {},
   "outputs": [
    {
     "name": "stdout",
     "output_type": "stream",
     "text": [
      "(23, [0, 0, 1, 1, 1, 1, 0, 1, 0, 0, 1, 0, 1, 1, 0, 1, 1, 0, 1, 1, 1, 1, 0, 0, 1, 0, 0, 1, 0, 0, 1, 1, 1, 0, 0, 1, 0, 1, 1, 1])\n",
      "(40, [1, 1, 1, 1, 1, 1, 1, 1, 1, 1, 1, 1, 1, 1, 1, 1, 1, 1, 1, 1, 1, 1, 1, 1, 1, 1, 1, 1, 1, 1, 1, 1, 1, 1, 1, 1, 1, 1, 1, 1])\n"
     ]
    }
   ],
   "source": [
    "print(simulated_annealing(onemax, neigh_int, starting_point, schedule, n_iter=1000))\n",
    "print(simulated_annealing(onemax, neigh_hamming, starting_point, schedule, n_iter=1000))"
   ]
  },
  {
   "cell_type": "markdown",
   "metadata": {
    "id": "UCI73ZaEUMBA"
   },
   "source": [
    "## Genetic Algorithms\n",
    "\n",
    "We start by defining the tournament selection. Notice that ```max``` on a python list of tuples return the maximum one in lexicographic order:"
   ]
  },
  {
   "cell_type": "code",
   "execution_count": 19,
   "metadata": {
    "executionInfo": {
     "elapsed": 467,
     "status": "ok",
     "timestamp": 1611051468673,
     "user": {
      "displayName": "Luca Manzoni",
      "photoUrl": "https://lh3.googleusercontent.com/a-/AOh14Ghe29ailJMHOhIfcMMV-n6KoyZgpvKhU0y8mcacAg=s64",
      "userId": "14224333895353448832"
     },
     "user_tz": -60
    },
    "id": "ViLoQGLrUNq1"
   },
   "outputs": [],
   "source": [
    "def tournament_selection(pop, fit, k):\n",
    "    '''\n",
    "    Given a certain population and a fitness function we select k individuals\n",
    "    \n",
    "    Args:\n",
    "        pop: List of individuals\n",
    "        fit: Function that evaluate the individuals\n",
    "        k: Number of winners\n",
    "\n",
    "    Returns:\n",
    "        Return the best individual among the k choosen\n",
    "    '''    \n",
    "    tournament = random.choices(pop, k=k)\n",
    "    selected = max([(fit(x), x) for x in tournament]) # (fitness, individual)\n",
    "    return selected[1]"
   ]
  },
  {
   "cell_type": "markdown",
   "metadata": {
    "id": "2riCdYnYZAPR"
   },
   "source": [
    "We define the one point crossover given two parents:"
   ]
  },
  {
   "cell_type": "code",
   "execution_count": 20,
   "metadata": {
    "executionInfo": {
     "elapsed": 562,
     "status": "ok",
     "timestamp": 1611051537306,
     "user": {
      "displayName": "Luca Manzoni",
      "photoUrl": "https://lh3.googleusercontent.com/a-/AOh14Ghe29ailJMHOhIfcMMV-n6KoyZgpvKhU0y8mcacAg=s64",
      "userId": "14224333895353448832"
     },
     "user_tz": -60
    },
    "id": "Ghs-wh9dV9IF"
   },
   "outputs": [],
   "source": [
    "def one_point_crossover(x, y):\n",
    "    '''\n",
    "    The function make a crossover by random select an integer and exchange \n",
    "    the information between the two parents after that value is reached.\n",
    "    \n",
    "    Args:\n",
    "        x: First sample\n",
    "        y: Second sample\n",
    "\n",
    "    Returns:\n",
    "        Two \"new\" sample crossed between 2 parents.\n",
    "    '''\n",
    "    n = len(x)\n",
    "    k = random.randint(0,n-1)\n",
    "    of1 = x[0:k] + y[k:n]\n",
    "    of2 = y[0:k] + x[k:n]\n",
    "    return of1, of2"
   ]
  },
  {
   "cell_type": "code",
   "execution_count": 21,
   "metadata": {
    "colab": {
     "base_uri": "https://localhost:8080/"
    },
    "executionInfo": {
     "elapsed": 755,
     "status": "ok",
     "timestamp": 1611051580620,
     "user": {
      "displayName": "Luca Manzoni",
      "photoUrl": "https://lh3.googleusercontent.com/a-/AOh14Ghe29ailJMHOhIfcMMV-n6KoyZgpvKhU0y8mcacAg=s64",
      "userId": "14224333895353448832"
     },
     "user_tz": -60
    },
    "id": "WzbOEBVhJ636",
    "outputId": "231a078a-ea3d-4a45-db35-138d904cd9bf"
   },
   "outputs": [
    {
     "data": {
      "text/plain": [
       "([1, 1, 0, 0], [0, 0, 1, 1])"
      ]
     },
     "execution_count": 21,
     "metadata": {},
     "output_type": "execute_result"
    }
   ],
   "source": [
    "one_point_crossover([1,1,1,1], [0,0,0,0])"
   ]
  },
  {
   "cell_type": "markdown",
   "metadata": {
    "id": "4TQQvIFpddZp"
   },
   "source": [
    "We can now define the bit-flip mutation with a given probability $p_\\text{mut}$:"
   ]
  },
  {
   "cell_type": "code",
   "execution_count": 22,
   "metadata": {
    "executionInfo": {
     "elapsed": 537,
     "status": "ok",
     "timestamp": 1611051632469,
     "user": {
      "displayName": "Luca Manzoni",
      "photoUrl": "https://lh3.googleusercontent.com/a-/AOh14Ghe29ailJMHOhIfcMMV-n6KoyZgpvKhU0y8mcacAg=s64",
      "userId": "14224333895353448832"
     },
     "user_tz": -60
    },
    "id": "CFdEwr45WgoB"
   },
   "outputs": [],
   "source": [
    "def bit_flip_mutation(x, p_m):\n",
    "    '''\n",
    "    The function apply a mutation to the entire indivual, bit after bit, with certain probability.\n",
    "    \n",
    "    Args:\n",
    "        x: The individual\n",
    "        p_m: The probability where we apply a mutation\n",
    "        \n",
    "    Returns:\n",
    "        The new mutated sample or not.\n",
    "    '''   \n",
    "    def flip(b):\n",
    "        if random.random() < p_m:\n",
    "            return 1 - b\n",
    "        else:\n",
    "            return b\n",
    "  \n",
    "    return [flip(b) for b in x]"
   ]
  },
  {
   "cell_type": "code",
   "execution_count": 23,
   "metadata": {
    "colab": {
     "base_uri": "https://localhost:8080/"
    },
    "executionInfo": {
     "elapsed": 512,
     "status": "ok",
     "timestamp": 1611051660718,
     "user": {
      "displayName": "Luca Manzoni",
      "photoUrl": "https://lh3.googleusercontent.com/a-/AOh14Ghe29ailJMHOhIfcMMV-n6KoyZgpvKhU0y8mcacAg=s64",
      "userId": "14224333895353448832"
     },
     "user_tz": -60
    },
    "id": "8UeBv1Q9KREQ",
    "outputId": "fddb0f33-12f5-439d-8b33-499a2e7b3347"
   },
   "outputs": [
    {
     "data": {
      "text/plain": [
       "[1, 1, 0, 1, 0]"
      ]
     },
     "execution_count": 23,
     "metadata": {},
     "output_type": "execute_result"
    }
   ],
   "source": [
    "bit_flip_mutation([0,1,1,1,0], 0.2)"
   ]
  },
  {
   "cell_type": "markdown",
   "metadata": {
    "id": "KcI1N6JodnPT"
   },
   "source": [
    "One essential step is the initial generation of the population. This can be done by generating uniformly at random ```pop_size``` individuals of $n$ bits:"
   ]
  },
  {
   "cell_type": "code",
   "execution_count": 24,
   "metadata": {
    "executionInfo": {
     "elapsed": 408,
     "status": "ok",
     "timestamp": 1611051685582,
     "user": {
      "displayName": "Luca Manzoni",
      "photoUrl": "https://lh3.googleusercontent.com/a-/AOh14Ghe29ailJMHOhIfcMMV-n6KoyZgpvKhU0y8mcacAg=s64",
      "userId": "14224333895353448832"
     },
     "user_tz": -60
    },
    "id": "HqbFtP4RaJcX"
   },
   "outputs": [],
   "source": [
    "def init_population(pop_size, n):\n",
    "    '''\n",
    "    The cuntion initiliaze the population by randomly extract the samples.\n",
    "    \n",
    "    Args:\n",
    "        pop_size: Number of individuals\n",
    "        n: Lenght of the binary string\n",
    "\n",
    "    Returns:\n",
    "        A list containing the population.\n",
    "    '''\n",
    "    return [random.choices([0,1], k = n) for _ in range(0, pop_size)]"
   ]
  },
  {
   "cell_type": "markdown",
   "metadata": {
    "id": "K-krc7Q2d4RT"
   },
   "source": [
    "We also add a function to return the best indvidual in the population and its fitness:"
   ]
  },
  {
   "cell_type": "code",
   "execution_count": 25,
   "metadata": {
    "executionInfo": {
     "elapsed": 422,
     "status": "ok",
     "timestamp": 1611051713785,
     "user": {
      "displayName": "Luca Manzoni",
      "photoUrl": "https://lh3.googleusercontent.com/a-/AOh14Ghe29ailJMHOhIfcMMV-n6KoyZgpvKhU0y8mcacAg=s64",
      "userId": "14224333895353448832"
     },
     "user_tz": -60
    },
    "id": "VZdgz2D6a2T9"
   },
   "outputs": [],
   "source": [
    "def get_best(pop, fit):\n",
    "    '''\n",
    "    Return the best individual among all samples.\n",
    "    \n",
    "    Args:\n",
    "        pop: List of population\n",
    "        fit: The function that compute the fitness\n",
    "\n",
    "    Returns:\n",
    "        The fittest samples among all the population.\n",
    "    '''\n",
    "    return max([(fit(x), x) for x in pop]) # (best_finess, individual)"
   ]
  },
  {
   "cell_type": "markdown",
   "metadata": {
    "id": "362Gkksgd-6H"
   },
   "source": [
    "A single generation is done by performing three steps:\n",
    "- selection (with tournament selection)\n",
    "- crossover (with one-point crossover)\n",
    "- mutation (with bit-flip mutation)"
   ]
  },
  {
   "cell_type": "code",
   "execution_count": 26,
   "metadata": {
    "executionInfo": {
     "elapsed": 450,
     "status": "ok",
     "timestamp": 1611051824484,
     "user": {
      "displayName": "Luca Manzoni",
      "photoUrl": "https://lh3.googleusercontent.com/a-/AOh14Ghe29ailJMHOhIfcMMV-n6KoyZgpvKhU0y8mcacAg=s64",
      "userId": "14224333895353448832"
     },
     "user_tz": -60
    },
    "id": "DhNWCzfFXsA4"
   },
   "outputs": [],
   "source": [
    "def generation(pop, fit, t_size, p_m):\n",
    "    '''\n",
    "    This function menage the population by making a selection, a crossover between \n",
    "    all population in group of 2 samples and a bit mutation.\n",
    "    \n",
    "    Args:\n",
    "        pop: List of population\n",
    "        fit: The fitness function\n",
    "        t_size: Number of individuals in the torunament\n",
    "        p_m: Probability of mutation\n",
    "\n",
    "    Returns:\n",
    "        A list with the new population after a generation.\n",
    "    '''\n",
    "    pop_size = len(pop)\n",
    "    selected = [tournament_selection(pop, fit, t_size) for _ in range(0,pop_size)]\n",
    "    offsprings = [one_point_crossover(x, y) for x,y in zip(selected[0::2], selected[1::2])] #(x0, x1), (x2, x3), (x4, x5), ...\n",
    "    offsprings = [ind for pair in offsprings for ind in pair] # flattern the list\n",
    "    return list(map(lambda x: bit_flip_mutation(x, p_m), offsprings))"
   ]
  },
  {
   "cell_type": "markdown",
   "metadata": {
    "id": "1B3uOcbweNdn"
   },
   "source": [
    "A GA simply perform a generational cycle a predefined number of times:"
   ]
  },
  {
   "cell_type": "code",
   "execution_count": 27,
   "metadata": {
    "executionInfo": {
     "elapsed": 997,
     "status": "ok",
     "timestamp": 1611051899287,
     "user": {
      "displayName": "Luca Manzoni",
      "photoUrl": "https://lh3.googleusercontent.com/a-/AOh14Ghe29ailJMHOhIfcMMV-n6KoyZgpvKhU0y8mcacAg=s64",
      "userId": "14224333895353448832"
     },
     "user_tz": -60
    },
    "id": "37ke705TYmMm"
   },
   "outputs": [],
   "source": [
    "def GA(pop_size, n, fit, t_size = 4, n_gen = 10):\n",
    "    '''\n",
    "    This function is the main cycle of the GA. It inizialize the population, \n",
    "    make n generation and select the best sample.\n",
    "    \n",
    "    Args:\n",
    "        pop_size: Size of the population\n",
    "        n: Lengh of binary string\n",
    "        fit: The fitness function\n",
    "        t_size: Number of individuals in the torunament\n",
    "        n_gen: Number of generation\n",
    "        \n",
    "    Returns:\n",
    "       The best sample.\n",
    "    '''\n",
    "    p_m = 1/n\n",
    "    pop = init_population(pop_size, n)\n",
    "    for i in range(0, n_gen):\n",
    "        print(get_best(pop, fit))\n",
    "        pop = generation(pop, fit, t_size, p_m)\n",
    "    return get_best(pop, fit)"
   ]
  },
  {
   "cell_type": "code",
   "execution_count": 28,
   "metadata": {
    "colab": {
     "base_uri": "https://localhost:8080/"
    },
    "executionInfo": {
     "elapsed": 517,
     "status": "ok",
     "timestamp": 1611051924821,
     "user": {
      "displayName": "Luca Manzoni",
      "photoUrl": "https://lh3.googleusercontent.com/a-/AOh14Ghe29ailJMHOhIfcMMV-n6KoyZgpvKhU0y8mcacAg=s64",
      "userId": "14224333895353448832"
     },
     "user_tz": -60
    },
    "id": "A0ZQyjb8bLqH",
    "outputId": "6f66036e-7226-4cfc-9daa-1499456b6317"
   },
   "outputs": [
    {
     "name": "stdout",
     "output_type": "stream",
     "text": [
      "(12, [1, 1, 0, 0, 1, 1, 1, 0, 1, 1, 1, 0, 1, 0, 1, 0, 1, 0, 0, 1])\n",
      "(13, [1, 1, 1, 0, 1, 1, 1, 0, 1, 1, 1, 0, 1, 0, 1, 0, 1, 0, 0, 1])\n",
      "(15, [1, 1, 1, 0, 1, 1, 1, 0, 1, 1, 1, 0, 1, 0, 1, 0, 1, 1, 1, 1])\n",
      "(15, [1, 1, 1, 0, 1, 0, 1, 1, 1, 1, 1, 0, 1, 0, 1, 0, 1, 1, 1, 1])\n",
      "(15, [1, 1, 1, 0, 1, 1, 1, 0, 1, 1, 1, 0, 1, 1, 1, 0, 1, 0, 1, 1])\n",
      "(15, [1, 1, 1, 0, 1, 1, 1, 0, 1, 1, 1, 0, 1, 1, 1, 0, 1, 1, 0, 1])\n",
      "(15, [1, 1, 1, 1, 1, 1, 1, 0, 1, 0, 1, 0, 1, 1, 1, 0, 1, 0, 1, 1])\n",
      "(16, [1, 1, 1, 1, 1, 1, 1, 0, 1, 0, 1, 0, 1, 1, 1, 1, 1, 0, 1, 1])\n",
      "(16, [1, 1, 1, 1, 1, 1, 1, 0, 1, 0, 1, 1, 1, 1, 0, 0, 1, 1, 1, 1])\n",
      "(17, [1, 1, 1, 1, 1, 1, 1, 0, 1, 0, 1, 1, 1, 1, 1, 1, 1, 1, 1, 0])\n",
      "(17, [1, 1, 1, 1, 1, 1, 1, 1, 1, 0, 1, 1, 1, 0, 1, 1, 1, 1, 1, 0])\n",
      "(17, [1, 1, 1, 1, 1, 1, 1, 0, 1, 1, 1, 1, 1, 0, 1, 1, 1, 1, 1, 0])\n",
      "(17, [1, 1, 1, 1, 1, 1, 1, 0, 1, 1, 1, 1, 1, 0, 1, 1, 1, 1, 1, 0])\n",
      "(18, [1, 1, 1, 1, 1, 1, 1, 1, 1, 0, 1, 1, 1, 1, 1, 1, 1, 1, 1, 0])\n",
      "(18, [1, 1, 1, 1, 1, 1, 1, 1, 1, 0, 1, 1, 1, 1, 1, 1, 1, 1, 1, 0])\n",
      "(19, [1, 1, 1, 1, 1, 1, 1, 1, 1, 1, 1, 1, 1, 1, 1, 1, 1, 1, 1, 0])\n",
      "(19, [1, 1, 1, 1, 1, 1, 1, 1, 1, 1, 1, 1, 1, 1, 1, 1, 1, 1, 1, 0])\n",
      "(20, [1, 1, 1, 1, 1, 1, 1, 1, 1, 1, 1, 1, 1, 1, 1, 1, 1, 1, 1, 1])\n",
      "(20, [1, 1, 1, 1, 1, 1, 1, 1, 1, 1, 1, 1, 1, 1, 1, 1, 1, 1, 1, 1])\n",
      "(20, [1, 1, 1, 1, 1, 1, 1, 1, 1, 1, 1, 1, 1, 1, 1, 1, 1, 1, 1, 1])\n"
     ]
    },
    {
     "data": {
      "text/plain": [
       "(20, [1, 1, 1, 1, 1, 1, 1, 1, 1, 1, 1, 1, 1, 1, 1, 1, 1, 1, 1, 1])"
      ]
     },
     "execution_count": 28,
     "metadata": {},
     "output_type": "execute_result"
    }
   ],
   "source": [
    "GA(10, 20, onemax, n_gen=20)"
   ]
  },
  {
   "cell_type": "markdown",
   "metadata": {
    "id": "sIwTX7zDeYr-"
   },
   "source": [
    "### Elitism\n",
    "\n",
    "Now we can force the population to always contain the best individual found so far"
   ]
  },
  {
   "cell_type": "code",
   "execution_count": 29,
   "metadata": {},
   "outputs": [],
   "source": [
    "# we want to maximise the value while keeping low the weight\n",
    "\n",
    "objects_value = [3, 5, 1, 9, 1, 4, 8, 2, 4, 2]\n",
    "objects_weights = [8, 3, 1, 4, 1, 3, 2, 5, 7, 1]\n",
    "max_capacity = 17 \n",
    "\n",
    "def knapsack_fitness(ind):\n",
    "    '''\n",
    "    Sume the songle value of the object and compute the fitness of the sample.\n",
    "    \n",
    "    Args:\n",
    "        ind: The sample\n",
    "        \n",
    "    Returns:\n",
    "        The total value if is below the max capacity, otherwise we return a big penalty.\n",
    "    '''\n",
    "    tot_value = 0\n",
    "    tot_weight = 0\n",
    "    for i, choice in enumerate(ind):\n",
    "        if choice == 1:\n",
    "            tot_value += objects_value[i]\n",
    "            tot_weight += objects_weights[i]\n",
    "    if tot_weight > max_capacity:\n",
    "        return -100\n",
    "    else:\n",
    "        return tot_value"
   ]
  },
  {
   "cell_type": "markdown",
   "metadata": {},
   "source": [
    "Now, we use the new fitness with alle the algorithm we have implemented before"
   ]
  },
  {
   "cell_type": "code",
   "execution_count": 30,
   "metadata": {},
   "outputs": [
    {
     "name": "stdout",
     "output_type": "stream",
     "text": [
      "0 (26, [0, 1, 0, 1, 0, 0, 1, 0, 1, 0])\n"
     ]
    }
   ],
   "source": [
    "random_sample = lambda: random.choices([0,1], k=10)\n",
    "sol = random_search(knapsack_fitness, random_sample)\n",
    "print(knapsack_fitness(sol), sol)"
   ]
  },
  {
   "cell_type": "code",
   "execution_count": 31,
   "metadata": {},
   "outputs": [
    {
     "name": "stdout",
     "output_type": "stream",
     "text": [
      "[0, 0, 0, 1, 0, 0, 1, 1, 1, 0]\n",
      "0 (21, [0, 0, 0, 1, 0, 0, 1, 1, 0, 1])\n",
      "0 (28, [0, 1, 1, 1, 1, 0, 1, 1, 0, 1])\n"
     ]
    }
   ],
   "source": [
    "starting_point = random.choices([0,1], k = 10)\n",
    "print(starting_point)\n",
    "sol1 = hill_climbing(knapsack_fitness, neigh_int, starting_point)\n",
    "sol2 = hill_climbing(knapsack_fitness, neigh_hamming, starting_point)\n",
    "print(knapsack_fitness(sol1), sol1)\n",
    "print(knapsack_fitness(sol2), sol2)"
   ]
  },
  {
   "cell_type": "markdown",
   "metadata": {},
   "source": [
    "Why are we not reaching higher value with the hamming distance? Because just flip one bit dosn't necessarly mean a better solution. But instead it could give a worse solution."
   ]
  },
  {
   "cell_type": "code",
   "execution_count": 32,
   "metadata": {},
   "outputs": [
    {
     "name": "stdout",
     "output_type": "stream",
     "text": [
      "[0, 0, 0, 1, 1, 0, 0, 0, 0, 0]\n",
      "0 (16, [0, 0, 0, 1, 1, 0, 0, 0, 1, 1])\n",
      "0 (21, [0, 0, 1, 1, 1, 1, 0, 0, 1, 1])\n"
     ]
    }
   ],
   "source": [
    "starting_point = random.choices([0,1], k = 10)\n",
    "print(starting_point)\n",
    "sol1 = simulated_annealing(knapsack_fitness, neigh_int, starting_point, schedule)\n",
    "sol2 = simulated_annealing(knapsack_fitness, neigh_hamming, starting_point, schedule)\n",
    "print(knapsack_fitness(sol1), sol1)\n",
    "print(knapsack_fitness(sol2), sol2)"
   ]
  },
  {
   "cell_type": "markdown",
   "metadata": {},
   "source": [
    "With annealing we can achive better result some times but not necessarly true. Sometimes it get stuck in a local maxima."
   ]
  },
  {
   "cell_type": "code",
   "execution_count": 33,
   "metadata": {},
   "outputs": [
    {
     "name": "stdout",
     "output_type": "stream",
     "text": [
      "(14, [1, 0, 1, 0, 0, 0, 1, 1, 0, 0])\n",
      "(23, [1, 0, 1, 1, 0, 0, 1, 0, 0, 1])\n",
      "(28, [0, 1, 0, 1, 0, 0, 1, 0, 1, 1])\n",
      "(26, [0, 1, 0, 1, 0, 0, 1, 0, 1, 0])\n",
      "(26, [0, 1, 0, 1, 0, 0, 1, 0, 1, 0])\n",
      "(21, [0, 1, 0, 0, 0, 1, 1, 0, 1, 0])\n",
      "(25, [0, 0, 0, 1, 0, 1, 1, 0, 1, 0])\n",
      "(27, [0, 0, 0, 1, 0, 1, 1, 0, 1, 1])\n",
      "(27, [0, 0, 0, 1, 0, 1, 1, 0, 1, 1])\n",
      "(27, [0, 0, 0, 1, 0, 1, 1, 0, 1, 1])\n",
      "(27, [0, 0, 0, 1, 0, 1, 1, 0, 1, 1])\n",
      "(27, [0, 0, 0, 1, 0, 1, 1, 0, 1, 1])\n",
      "(27, [0, 0, 0, 1, 0, 1, 1, 0, 1, 1])\n",
      "(27, [0, 0, 0, 1, 0, 1, 1, 0, 1, 1])\n",
      "(27, [0, 0, 0, 1, 0, 1, 1, 0, 1, 1])\n",
      "(28, [0, 1, 0, 1, 0, 0, 1, 0, 1, 1])\n",
      "(28, [0, 1, 0, 1, 0, 0, 1, 0, 1, 1])\n",
      "(27, [0, 0, 0, 1, 0, 1, 1, 0, 1, 1])\n",
      "(23, [0, 0, 0, 1, 0, 0, 1, 0, 1, 1])\n",
      "(28, [0, 1, 0, 1, 0, 1, 1, 0, 0, 1])\n"
     ]
    },
    {
     "data": {
      "text/plain": [
       "(28, [0, 1, 0, 1, 0, 1, 1, 0, 0, 1])"
      ]
     },
     "execution_count": 33,
     "metadata": {},
     "output_type": "execute_result"
    }
   ],
   "source": [
    "GA(10, 10, knapsack_fitness, n_gen=20)"
   ]
  },
  {
   "cell_type": "markdown",
   "metadata": {},
   "source": [
    "With GA we can achive the more higher value. But we can use elitism. How? The GA remains the same, we only have to change how the generation is compute. If the new best fitness is not better then the courrent best fittness, then we simply make a way to not modify the new sample to make it worse."
   ]
  },
  {
   "cell_type": "code",
   "execution_count": 34,
   "metadata": {},
   "outputs": [],
   "source": [
    "from functools import reduce\n",
    "\n",
    "def generation_elitist(pop, fit, t_size, p_m, elitism=True):\n",
    "  best_fit, best = reduce(max, [(fit(x), x) for x in pop])\n",
    "  pop_size = len(pop)\n",
    "  selected = [tournament_selection(pop, fit, t_size) for _ in range(0,pop_size)]\n",
    "  offsprings = [one_point_crossover(x, y) for x,y in zip(selected[0::2], selected[1::2])]\n",
    "  offsprings = [ind for pair in offsprings for ind in pair]\n",
    "  mutated_offsprings = list(map(lambda x: bit_flip_mutation(x, p_m), offsprings))\n",
    "  best_fit_new, _ = reduce(max, [(fit(x), x) for x in mutated_offsprings])\n",
    "  if best_fit_new < best_fit:\n",
    "    # we remove one individual and replace it with the best\n",
    "    mutated_offsprings[0] = best \n",
    "  return mutated_offsprings\n",
    "\n",
    "def GA_elitism(pop_size, n, fit, t_size = 4, n_gen = 10, elitism = False):\n",
    "  p_m = 1/n\n",
    "  pop = init_population(pop_size, n)\n",
    "  for i in range(0, n_gen):\n",
    "    print(get_best(pop, fit))\n",
    "    pop = generation_elitist(pop, fit, t_size, p_m, elitism)\n",
    "  return get_best(pop, fit)"
   ]
  },
  {
   "cell_type": "code",
   "execution_count": 35,
   "metadata": {},
   "outputs": [
    {
     "name": "stdout",
     "output_type": "stream",
     "text": [
      "(7, [1, 1, 1, 0, 1, 0, 1, 0, 1, 1])\n",
      "(8, [1, 1, 0, 1, 1, 1, 1, 0, 1, 1])\n",
      "(8, [1, 1, 0, 1, 1, 1, 1, 0, 1, 1])\n",
      "(9, [1, 1, 0, 1, 1, 1, 1, 1, 1, 1])\n",
      "(9, [1, 1, 0, 1, 1, 1, 1, 1, 1, 1])\n",
      "(9, [1, 1, 1, 1, 0, 1, 1, 1, 1, 1])\n",
      "(9, [1, 1, 1, 1, 1, 1, 1, 1, 1, 0])\n",
      "(9, [1, 1, 1, 1, 1, 1, 1, 1, 1, 0])\n",
      "(10, [1, 1, 1, 1, 1, 1, 1, 1, 1, 1])\n",
      "(10, [1, 1, 1, 1, 1, 1, 1, 1, 1, 1])\n",
      "(10, [1, 1, 1, 1, 1, 1, 1, 1, 1, 1])\n",
      "(10, [1, 1, 1, 1, 1, 1, 1, 1, 1, 1])\n",
      "(10, [1, 1, 1, 1, 1, 1, 1, 1, 1, 1])\n",
      "(10, [1, 1, 1, 1, 1, 1, 1, 1, 1, 1])\n",
      "(10, [1, 1, 1, 1, 1, 1, 1, 1, 1, 1])\n",
      "(10, [1, 1, 1, 1, 1, 1, 1, 1, 1, 1])\n",
      "(10, [1, 1, 1, 1, 1, 1, 1, 1, 1, 1])\n",
      "(10, [1, 1, 1, 1, 1, 1, 1, 1, 1, 1])\n",
      "(10, [1, 1, 1, 1, 1, 1, 1, 1, 1, 1])\n",
      "(10, [1, 1, 1, 1, 1, 1, 1, 1, 1, 1])\n"
     ]
    },
    {
     "data": {
      "text/plain": [
       "(10, [1, 1, 1, 1, 1, 1, 1, 1, 1, 1])"
      ]
     },
     "execution_count": 35,
     "metadata": {},
     "output_type": "execute_result"
    }
   ],
   "source": [
    "GA_elitism(10, 10, onemax, n_gen=20, elitism=True)"
   ]
  },
  {
   "cell_type": "markdown",
   "metadata": {},
   "source": [
    "If we try with knapsack we achive the best value among all. Is this the oprimum? We don't know. We take the solution ad the optimum in the short distance in time or we make a very long computation so in a long run we could be more confident in the solution. But is still not garanted."
   ]
  },
  {
   "cell_type": "code",
   "execution_count": 36,
   "metadata": {},
   "outputs": [
    {
     "name": "stdout",
     "output_type": "stream",
     "text": [
      "(29, [0, 1, 0, 1, 1, 1, 1, 0, 0, 1])\n",
      "(29, [0, 1, 1, 1, 0, 1, 1, 0, 0, 1])\n",
      "(29, [0, 1, 1, 1, 0, 1, 1, 0, 0, 1])\n",
      "(29, [0, 1, 1, 1, 0, 1, 1, 0, 0, 1])\n",
      "(30, [0, 1, 1, 1, 1, 1, 1, 0, 0, 1])\n",
      "(30, [0, 1, 1, 1, 1, 1, 1, 0, 0, 1])\n",
      "(30, [0, 1, 1, 1, 1, 1, 1, 0, 0, 1])\n",
      "(30, [0, 1, 1, 1, 1, 1, 1, 0, 0, 1])\n",
      "(30, [0, 1, 1, 1, 1, 1, 1, 0, 0, 1])\n",
      "(30, [0, 1, 1, 1, 1, 1, 1, 0, 0, 1])\n",
      "(30, [0, 1, 1, 1, 1, 1, 1, 0, 0, 1])\n",
      "(30, [0, 1, 1, 1, 1, 1, 1, 0, 0, 1])\n",
      "(30, [0, 1, 1, 1, 1, 1, 1, 0, 0, 1])\n",
      "(30, [0, 1, 1, 1, 1, 1, 1, 0, 0, 1])\n",
      "(30, [0, 1, 1, 1, 1, 1, 1, 0, 0, 1])\n",
      "(30, [0, 1, 1, 1, 1, 1, 1, 0, 0, 1])\n",
      "(30, [0, 1, 1, 1, 1, 1, 1, 0, 0, 1])\n",
      "(30, [0, 1, 1, 1, 1, 1, 1, 0, 0, 1])\n",
      "(30, [0, 1, 1, 1, 1, 1, 1, 0, 0, 1])\n",
      "(30, [0, 1, 1, 1, 1, 1, 1, 0, 0, 1])\n"
     ]
    },
    {
     "data": {
      "text/plain": [
       "(30, [0, 1, 1, 1, 1, 1, 1, 0, 0, 1])"
      ]
     },
     "execution_count": 36,
     "metadata": {},
     "output_type": "execute_result"
    }
   ],
   "source": [
    "GA_elitism(10, 10, knapsack_fitness, n_gen=20, elitism=True)"
   ]
  }
 ],
 "metadata": {
  "colab": {
   "authorship_tag": "ABX9TyOoj2ymunod7zUKCZKwpzwc",
   "collapsed_sections": [],
   "name": "Lecture 1 - single state methods and GA.ipynb",
   "provenance": []
  },
  "kernelspec": {
   "display_name": "Python 3 (ipykernel)",
   "language": "python",
   "name": "python3"
  },
  "language_info": {
   "codemirror_mode": {
    "name": "ipython",
    "version": 3
   },
   "file_extension": ".py",
   "mimetype": "text/x-python",
   "name": "python",
   "nbconvert_exporter": "python",
   "pygments_lexer": "ipython3",
   "version": "3.12.6"
  },
  "vscode": {
   "interpreter": {
    "hash": "299dfacaaaab6c65c81b99ab9811d8dbab67cadcf38014d1ae372d1b626b1582"
   }
  }
 },
 "nbformat": 4,
 "nbformat_minor": 4
}

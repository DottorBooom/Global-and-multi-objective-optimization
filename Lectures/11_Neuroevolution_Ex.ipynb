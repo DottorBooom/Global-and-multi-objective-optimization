{
 "cells": [
  {
   "cell_type": "markdown",
   "id": "pointed-knitting",
   "metadata": {},
   "source": [
    "# Neuroevolution with NEAT"
   ]
  },
  {
   "cell_type": "markdown",
   "id": "sixth-verse",
   "metadata": {},
   "source": [
    "We will start by installing the ```neat-python``` library, which provides an implementation of NEAT, and the ```networkx``` library to draw the resulting network"
   ]
  },
  {
   "cell_type": "code",
   "execution_count": null,
   "id": "linear-algorithm",
   "metadata": {},
   "outputs": [
    {
     "name": "stdout",
     "output_type": "stream",
     "text": [
      "Defaulting to user installation because normal site-packages is not writeable\n",
      "Collecting networkx\n",
      "  Downloading networkx-3.4.2-py3-none-any.whl.metadata (6.3 kB)\n",
      "Downloading networkx-3.4.2-py3-none-any.whl (1.7 MB)\n",
      "\u001b[2K   \u001b[38;2;114;156;31m━━━━━━━━━━━━━━━━━━━━━━━━━━━━━━━━━━━━━━━━\u001b[0m \u001b[32m1.7/1.7 MB\u001b[0m \u001b[31m5.5 MB/s\u001b[0m eta \u001b[36m0:00:00\u001b[0m[31m5.6 MB/s\u001b[0m eta \u001b[36m0:00:01\u001b[0m\n",
      "\u001b[?25hInstalling collected packages: networkx\n",
      "Successfully installed networkx-3.4.2\n",
      "Note: you may need to restart the kernel to use updated packages.\n"
     ]
    }
   ],
   "source": [
    "%pip install neat-python"
   ]
  },
  {
   "cell_type": "code",
   "execution_count": 6,
   "id": "boxed-democracy",
   "metadata": {},
   "outputs": [],
   "source": [
    "import neat\n",
    "import random\n",
    "import networkx as nx"
   ]
  },
  {
   "cell_type": "markdown",
   "id": "available-absence",
   "metadata": {},
   "source": [
    "The problem is a variant of the XOR problem with one additional input.\n",
    "\n",
    "We have three inputs $x_1, x_2, x_3$ and two outputs $y_1 = x_1 \\oplus x_2$ and $y_2 = \\neg x_3$.\n",
    "\n",
    "Part of the following code is adapted from a ```neat-python``` example"
   ]
  },
  {
   "cell_type": "code",
   "execution_count": 7,
   "id": "protected-thirty",
   "metadata": {},
   "outputs": [],
   "source": [
    "xor_inputs = [(0.0, 0.0, 0.0), (0.0, 0.0, 1.0),\n",
    "              (0.0, 1.0, 0.0), (0.0, 1.0, 1.0),\n",
    "              (1.0, 0.0, 0.0), (1.0, 0.0, 1.0),\n",
    "              (1.0, 1.0, 0.0), (1.0, 1.0, 1.0)]\n",
    "xor_outputs = [(0.0, 1.0), (0.0, 0.0),\n",
    "               (1.0, 1.0), (1.0, 0.0),\n",
    "               (1.0, 1.0), (1.0, 0.0),\n",
    "               (0.0, 1.0), (0.0, 0.0)]"
   ]
  },
  {
   "cell_type": "markdown",
   "id": "bound-impression",
   "metadata": {},
   "source": [
    "To define how to eval the genomes we generate the network starting from the genome using ```nn.FeedFOrwardNetwork.create```, and we can use the method ```activate``` to compute the outputs of the net."
   ]
  },
  {
   "cell_type": "code",
   "execution_count": 8,
   "id": "sixth-brisbane",
   "metadata": {},
   "outputs": [],
   "source": [
    "# We need a way to evaluate the fitness of the genomes.\n",
    "# The fitness function is called for a set of genome in the population on to some config file.\n",
    "\n",
    "def eval_genomes(genomes, config):\n",
    "    for genome_id, genome in genomes:\n",
    "        genome.fitness = 16.0  # We start with saying 16 correct outputs\n",
    "        net = neat.nn.FeedForwardNetwork.create(genome, config)  # Create a neural network from the configuration \n",
    "        for xi, xo in zip(xor_inputs, xor_outputs):  # For each input and output pair we compute the MSE\n",
    "            output = net.activate(xi)\n",
    "            genome.fitness -= (output[0] - xo[0]) ** 2\n",
    "            genome.fitness -= (output[1] - xo[1]) ** 2"
   ]
  },
  {
   "cell_type": "markdown",
   "id": "moved-platform",
   "metadata": {},
   "source": [
    "The ```neat-python``` library **requires** a (non-trivial) configuration file (see ```neat_config.txt```)"
   ]
  },
  {
   "cell_type": "code",
   "execution_count": 10,
   "id": "typical-lawyer",
   "metadata": {},
   "outputs": [],
   "source": [
    "config = neat.Config(neat.genome.DefaultGenome,\n",
    "                     neat.reproduction.DefaultReproduction,\n",
    "                     neat.species.DefaultSpeciesSet,\n",
    "                     neat.stagnation.DefaultStagnation,\n",
    "                     \"neat_config.txt\")"
   ]
  },
  {
   "cell_type": "markdown",
   "id": "atomic-hormone",
   "metadata": {},
   "source": [
    "We can now create the initial population (based on the given configuration)"
   ]
  },
  {
   "cell_type": "code",
   "execution_count": 11,
   "id": "absent-given",
   "metadata": {},
   "outputs": [],
   "source": [
    "population = neat.Population(config)"
   ]
  },
  {
   "cell_type": "markdown",
   "id": "mental-generator",
   "metadata": {},
   "source": [
    "We evolve the population from $500$ generations"
   ]
  },
  {
   "cell_type": "code",
   "execution_count": 13,
   "id": "furnished-demand",
   "metadata": {},
   "outputs": [],
   "source": [
    "random.seed(0)\n",
    "winner = population.run(eval_genomes, 500)"
   ]
  },
  {
   "cell_type": "markdown",
   "id": "impressed-demographic",
   "metadata": {},
   "source": [
    "We can print the best network found:"
   ]
  },
  {
   "cell_type": "code",
   "execution_count": 14,
   "id": "mediterranean-happiness",
   "metadata": {},
   "outputs": [
    {
     "name": "stdout",
     "output_type": "stream",
     "text": [
      "Best genome:\n",
      "Key: 36633\n",
      "Fitness: 15.95923032652701\n",
      "Nodes:\n",
      "\t0 DefaultNodeGene(key=0, bias=-0.841197123597861, response=1.0, activation=sigmoid, aggregation=sum)\n",
      "\t1 DefaultNodeGene(key=1, bias=5.793707202067432, response=1.0, activation=sigmoid, aggregation=sum)\n",
      "\t3468 DefaultNodeGene(key=3468, bias=-0.6452409520774406, response=1.0, activation=sigmoid, aggregation=sum)\n",
      "Connections:\n",
      "\tDefaultConnectionGene(key=(-3, 1), weight=-18.669444832766587, enabled=True)\n",
      "\tDefaultConnectionGene(key=(-2, 0), weight=-1.0704853112467634, enabled=True)\n",
      "\tDefaultConnectionGene(key=(-2, 3468), weight=1.8996819615507707, enabled=True)\n",
      "\tDefaultConnectionGene(key=(-1, 0), weight=1.511542894378222, enabled=True)\n",
      "\tDefaultConnectionGene(key=(-1, 3468), weight=-4.009311461995168, enabled=True)\n",
      "\tDefaultConnectionGene(key=(3468, 0), weight=8.563047497638681, enabled=True)\n"
     ]
    }
   ],
   "source": [
    "print(f'Best genome:\\n{winner}')"
   ]
  },
  {
   "cell_type": "markdown",
   "id": "stuck-charleston",
   "metadata": {},
   "source": [
    "And the outputs of the network:"
   ]
  },
  {
   "cell_type": "code",
   "execution_count": 15,
   "id": "material-portland",
   "metadata": {},
   "outputs": [
    {
     "name": "stdout",
     "output_type": "stream",
     "text": [
      "\n",
      "Output:\n",
      "input (0.0, 0.0, 0.0), expected output (0.0, 1.0), got [0.07104075078184773, 0.9999999999997375]\n",
      "input (0.0, 0.0, 1.0), expected output (0.0, 0.0), got [0.07104075078184773, 8.75651076269652e-27]\n",
      "input (0.0, 1.0, 0.0), expected output (1.0, 1.0), got [0.999999999999996, 0.9999999999997375]\n",
      "input (0.0, 1.0, 1.0), expected output (1.0, 0.0), got [0.999999999999996, 8.75651076269652e-27]\n",
      "input (1.0, 0.0, 0.0), expected output (1.0, 1.0), got [0.9661614038895175, 0.9999999999997375]\n",
      "input (1.0, 0.0, 1.0), expected output (1.0, 0.0), got [0.9661614038895175, 8.75651076269652e-27]\n",
      "input (1.0, 1.0, 0.0), expected output (0.0, 1.0), got [0.11913436900457139, 0.9999999999997375]\n",
      "input (1.0, 1.0, 1.0), expected output (0.0, 0.0), got [0.11913436900457139, 8.75651076269652e-27]\n"
     ]
    }
   ],
   "source": [
    "print('\\nOutput:')\n",
    "winner_net = neat.nn.FeedForwardNetwork.create(winner, config)\n",
    "for xi, xo in zip(xor_inputs, xor_outputs):\n",
    "    output = winner_net.activate(xi)\n",
    "    print(f\"input {xi}, expected output {xo}, got {output}\")"
   ]
  },
  {
   "cell_type": "markdown",
   "id": "corrected-catering",
   "metadata": {},
   "source": [
    "FInally, we can also draw a graphical representation of the network"
   ]
  },
  {
   "cell_type": "code",
   "execution_count": 20,
   "id": "monthly-dynamics",
   "metadata": {},
   "outputs": [
    {
     "data": {
      "image/png": "[encoded data removed]",
      "text/plain": [
       "<Figure size 640x480 with 1 Axes>"
      ]
     },
     "metadata": {},
     "output_type": "display_data"
    }
   ],
   "source": [
    "n_outputs = 2\n",
    "n_inputs = 3\n",
    "g = nx.DiGraph()\n",
    "for name in range(-n_inputs, 0):\n",
    "    g.add_node(name, node_type=0)\n",
    "for name in winner.nodes.keys():\n",
    "    if name < n_outputs:\n",
    "        node_type = 2\n",
    "    else:\n",
    "        node_type = 1\n",
    "    g.add_node(name, node_type=node_type)\n",
    "for i,j in winner.connections.keys():\n",
    "    g.add_edge(i, j)\n",
    "pos = nx.multipartite_layout(g, subset_key=\"node_type\")\n",
    "nx.draw(g, pos=pos)"
   ]
  }
 ],
 "metadata": {
  "kernelspec": {
   "display_name": "Python 3",
   "language": "python",
   "name": "python3"
  },
  "language_info": {
   "codemirror_mode": {
    "name": "ipython",
    "version": 3
   },
   "file_extension": ".py",
   "mimetype": "text/x-python",
   "name": "python",
   "nbconvert_exporter": "python",
   "pygments_lexer": "ipython3",
   "version": "3.13.3"
  }
 },
 "nbformat": 4,
 "nbformat_minor": 5
}

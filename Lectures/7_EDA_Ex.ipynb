{
 "cells": [
  {
   "cell_type": "markdown",
   "id": "japanese-violation",
   "metadata": {},
   "source": [
    "# EDA\n",
    "\n",
    "We will implement a simple EDA from scratch"
   ]
  },
  {
   "cell_type": "code",
   "execution_count": 11,
   "id": "possible-shooting",
   "metadata": {},
   "outputs": [],
   "source": [
    "import random"
   ]
  },
  {
   "cell_type": "markdown",
   "id": "minus-voluntary",
   "metadata": {},
   "source": [
    "We can define a simple EDA (PBIL) for Boolean spaces:"
   ]
  },
  {
   "cell_type": "code",
   "execution_count": 12,
   "id": "gross-anatomy",
   "metadata": {},
   "outputs": [],
   "source": [
    "class EDA:\n",
    "    \n",
    "    def __init__(self, n_vars, pop_size, alpha, b, fit):\n",
    "        self.n_vars = n_vars \n",
    "        self.pop_size = pop_size \n",
    "        self.alpha = alpha # How we merge the two distributions \n",
    "        self.b = b # What are the fittest individuals that we take (size of truncate)\n",
    "        self.fit = fit # Fitness function\n",
    "        self.D = [0.5] * n_vars # The initial distribution is a uniform distribution\n",
    "        self.pop = [] \n",
    "        self.best = None \n",
    "        \n",
    "    # Generation of new solutions according to the marginal distributions D[i]\n",
    "    # We start with vector 0 and flip the bit accordin to the distribution\n",
    "    # The probability of flipping the bit is D[i]\n",
    "    # The result is a binary vector of size n_vars\n",
    "    def generate_solution(self):\n",
    "        v = [0] * self.n_vars\n",
    "        for i in range(0, self.n_vars):\n",
    "            if random.random() < self.D[i]:\n",
    "                v[i] = 1\n",
    "        return v\n",
    "    \n",
    "    # Compute the n_vars marginal distributions in the current population\n",
    "    # We compute the number of 1s for each of the genes and normilize it\n",
    "    # And we obtain a new set of distributions for each gene\n",
    "    def compute_dist(self):\n",
    "        N = [0] * self.n_vars\n",
    "        for p in self.pop:\n",
    "            for i in range(0, self.n_vars):\n",
    "                if p[i] == 1:\n",
    "                    N[i] += 1\n",
    "        return [N[i] / self.b for i in range(0, self.n_vars)]\n",
    "    \n",
    "    # Update the distributions D[i]\n",
    "    # We sort by fitness and take the b best individuals\n",
    "    # We compute the new distributions on b fittest \n",
    "    # and update the current distributions according to alpha\n",
    "    # We also update the best solution found so far\n",
    "    def update_dist(self):\n",
    "        self.pop = [self.generate_solution() for _ in range(0, self.pop_size)]\n",
    "        self.pop.sort(key=self.fit)\n",
    "        self.pop = self.pop[0:self.b]\n",
    "        candidate_best = self.pop[0]\n",
    "        if self.best is None or self.fit(self.best) > self.fit(candidate_best):\n",
    "            self.best = candidate_best\n",
    "        N = self.compute_dist()\n",
    "        for i in range(0, self.n_vars):\n",
    "            self.D[i] = (1-self.alpha) * self.D[i] + self.alpha * N[i]"
   ]
  },
  {
   "cell_type": "markdown",
   "id": "sustainable-contract",
   "metadata": {},
   "source": [
    "We can try the EDA on a simple problem (OneMax), where the only optimum is the vector of all ones"
   ]
  },
  {
   "cell_type": "code",
   "execution_count": 13,
   "id": "seeing-acting",
   "metadata": {},
   "outputs": [],
   "source": [
    "# We want to maximize the number of 1s in the vector\n",
    "# So, we want to minimize the number of 0s\n",
    "def onemax(v):\n",
    "    return v.count(0) "
   ]
  },
  {
   "cell_type": "code",
   "execution_count": 14,
   "id": "essential-ground",
   "metadata": {},
   "outputs": [],
   "source": [
    "# 10 bits, 20 individuals, \n",
    "# alpha = 0.1 so 90% of the distribution is given by the old one\n",
    "# b = 5 so we take the best 5 individuals\n",
    "eda = EDA(10, 20, 0.1, 5, onemax)"
   ]
  },
  {
   "cell_type": "markdown",
   "id": "tired-corporation",
   "metadata": {},
   "source": [
    "We can now look at the distributions $D_i$ after $100$ iterations:"
   ]
  },
  {
   "cell_type": "code",
   "execution_count": null,
   "id": "welcome-worse",
   "metadata": {},
   "outputs": [
    {
     "data": {
      "text/plain": [
       "[0.9998989445386787,\n",
       " 0.9998712883026933,\n",
       " 0.9998981752511861,\n",
       " 0.999850306743446,\n",
       " 0.999901240656081,\n",
       " 0.9998986800607592,\n",
       " 0.9999145338118774,\n",
       " 0.99986733305359,\n",
       " 0.9998544943358829,\n",
       " 0.9998769948759969]"
      ]
     },
     "execution_count": 15,
     "metadata": {},
     "output_type": "execute_result"
    }
   ],
   "source": [
    "for i in range(0, 90):\n",
    "    eda.update_dist()\n",
    "eda.D\n",
    "\n",
    "# We found the best solution, and the marginal distribution of 0.999... \n",
    "# in each slot is the probability of genereting 1"
   ]
  },
  {
   "cell_type": "code",
   "execution_count": 18,
   "id": "1df14b50",
   "metadata": {},
   "outputs": [
    {
     "name": "stdout",
     "output_type": "stream",
     "text": [
      "0.5\n",
      "0.51\n",
      "0.559\n",
      "0.5631000000000002\n",
      "0.5467900000000002\n",
      "0.5521110000000002\n",
      "0.5968999000000003\n",
      "0.5972099100000003\n",
      "0.6174889190000004\n",
      "0.6357400271000004\n",
      "0.6721660243900004\n",
      "0.6649494219510004\n",
      "0.6784544797559005\n",
      "0.6906090317803104\n",
      "0.7215481286022793\n",
      "0.7493933157420514\n",
      "0.7744539841678463\n",
      "0.7970085857510616\n",
      "0.8173077271759555\n",
      "0.81557695445836\n",
      "0.8340192590125239\n",
      "0.8506173331112715\n",
      "0.8655555998001444\n",
      "0.87900003982013\n",
      "0.8911000358381169\n",
      "0.9019900322543052\n",
      "0.9117910290288747\n",
      "0.9206119261259872\n",
      "0.9285507335133885\n",
      "0.9356956601620496\n",
      "0.9421260941458447\n",
      "0.9479134847312602\n",
      "0.9531221362581342\n",
      "0.9578099226323208\n",
      "0.9620289303690887\n",
      "0.9658260373321798\n",
      "0.9692434335989618\n",
      "0.9723190902390656\n",
      "0.975087181215159\n",
      "0.9775784630936432\n",
      "0.9798206167842788\n",
      "0.9818385551058509\n",
      "0.9836546995952659\n",
      "0.9852892296357393\n",
      "0.9867603066721653\n",
      "0.9880842760049487\n",
      "0.9892758484044538\n",
      "0.9903482635640084\n",
      "0.9913134372076076\n",
      "0.9921820934868468\n",
      "0.9929638841381622\n",
      "0.993667495724346\n",
      "0.9943007461519113\n",
      "0.9948706715367202\n",
      "0.9953836043830482\n",
      "0.9958452439447434\n",
      "0.9962607195502691\n",
      "0.9966346475952421\n",
      "0.996971182835718\n",
      "0.9972740645521462\n",
      "0.9975466580969315\n",
      "0.9977919922872384\n",
      "0.9980127930585145\n",
      "0.998211513752663\n",
      "0.9983903623773968\n",
      "0.998551326139657\n",
      "0.9986961935256913\n",
      "0.9988265741731222\n",
      "0.99894391675581\n",
      "0.9990495250802289\n",
      "0.999144572572206\n",
      "0.9992301153149854\n",
      "0.9993071037834869\n",
      "0.9993763934051382\n",
      "0.9994387540646243\n",
      "0.9994948786581619\n",
      "0.9995453907923457\n",
      "0.9995908517131111\n",
      "0.9996317665418\n",
      "0.99966858988762\n",
      "0.9997017308988579\n",
      "0.9997315578089722\n",
      "0.999758402028075\n",
      "0.9997825618252675\n",
      "0.9998043056427407\n",
      "0.9998238750784666\n",
      "0.99984148757062\n",
      "0.999857338813558\n",
      "0.9998716049322022\n",
      "0.999884444438982\n"
     ]
    }
   ],
   "source": [
    "eda = EDA(10, 20, 0.1, 5, onemax)\n",
    "for i in range(0, 90):\n",
    "    print(eda.D[0])\n",
    "    eda.update_dist()"
   ]
  },
  {
   "cell_type": "code",
   "execution_count": 16,
   "id": "mature-tattoo",
   "metadata": {},
   "outputs": [
    {
     "data": {
      "text/plain": [
       "[1, 1, 1, 1, 1, 1, 1, 1, 1, 1]"
      ]
     },
     "execution_count": 16,
     "metadata": {},
     "output_type": "execute_result"
    }
   ],
   "source": [
    "eda.best"
   ]
  },
  {
   "cell_type": "markdown",
   "id": "8a22d3f9",
   "metadata": {},
   "source": [
    "What is the problem?\n",
    "If instead of onemax we take a function that is not monotonic,\n",
    "we can get stuck in a local optimum"
   ]
  },
  {
   "cell_type": "code",
   "execution_count": 19,
   "id": "abe4de86",
   "metadata": {},
   "outputs": [],
   "source": [
    "# Let's define a more complex fit function\n",
    "# Now, in this case I want the sime number of 0s and 1s\n",
    "def f(v):\n",
    "    return (v.count(0) - v.count(1))**2"
   ]
  },
  {
   "cell_type": "code",
   "execution_count": 20,
   "id": "b11fc126",
   "metadata": {},
   "outputs": [
    {
     "data": {
      "text/plain": [
       "[0.008126359650410682,\n",
       " 0.4676687489592298,\n",
       " 0.04352837421625894,\n",
       " 0.9802879998311946,\n",
       " 0.25164924647309145,\n",
       " 0.6751067690603492,\n",
       " 0.9366207114203833,\n",
       " 0.5916341342865885,\n",
       " 0.08666974110711645,\n",
       " 0.9665536268100764]"
      ]
     },
     "execution_count": 20,
     "metadata": {},
     "output_type": "execute_result"
    }
   ],
   "source": [
    "eda = EDA(10, 20, 0.1, 5, f)\n",
    "for i in range(0, 90):\n",
    "    eda.update_dist()\n",
    "eda.D"
   ]
  },
  {
   "cell_type": "code",
   "execution_count": null,
   "id": "cfbe76bb",
   "metadata": {},
   "outputs": [
    {
     "data": {
      "text/plain": [
       "[1, 0, 1, 0, 0, 1, 0, 1, 0, 1]"
      ]
     },
     "execution_count": 21,
     "metadata": {},
     "output_type": "execute_result"
    }
   ],
   "source": [
    "# We again found the best solution, but we have not a good distribution\n",
    "# We are assuming that each position is indipendent from the others,\n",
    "# but in this case we have a dependency between the bits\n",
    "eda.best"
   ]
  }
 ],
 "metadata": {
  "kernelspec": {
   "display_name": ".venv",
   "language": "python",
   "name": "python3"
  },
  "language_info": {
   "codemirror_mode": {
    "name": "ipython",
    "version": 3
   },
   "file_extension": ".py",
   "mimetype": "text/x-python",
   "name": "python",
   "nbconvert_exporter": "python",
   "pygments_lexer": "ipython3",
   "version": "3.12.9"
  }
 },
 "nbformat": 4,
 "nbformat_minor": 5
}
